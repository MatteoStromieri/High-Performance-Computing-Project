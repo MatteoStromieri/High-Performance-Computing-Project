{
  "nbformat": 4,
  "nbformat_minor": 0,
  "metadata": {
    "colab": {
      "provenance": [],
      "authorship_tag": "ABX9TyMuPXDvK+780N8Zc3MBBn94",
      "include_colab_link": true
    },
    "kernelspec": {
      "name": "python3",
      "display_name": "Python 3"
    },
    "language_info": {
      "name": "python"
    }
  },
  "cells": [
    {
      "cell_type": "markdown",
      "metadata": {
        "id": "view-in-github",
        "colab_type": "text"
      },
      "source": [
        "<a href=\"https://colab.research.google.com/github/MatteoStromieri/High-Performance-Computing-Project/blob/master/High_Performance_Computing_Benchmark_Plots.ipynb\" target=\"_parent\"><img src=\"https://colab.research.google.com/assets/colab-badge.svg\" alt=\"Open In Colab\"/></a>"
      ]
    },
    {
      "cell_type": "code",
      "execution_count": null,
      "metadata": {
        "id": "ykXYvPA9BckV"
      },
      "outputs": [],
      "source": [
        "import pandas as pd\n",
        "import matplotlib.pyplot as plt\n",
        "from google.colab import files\n",
        "\n",
        "# Upload CSV file\n",
        "uploaded = files.upload()\n",
        "\n",
        "# Get the first uploaded file (assuming it's a CSV)\n",
        "file_name = list(uploaded.keys())[0]\n",
        "\n",
        "# Read CSV into a DataFrame\n",
        "df = pd.read_csv(file_name)\n",
        "\n",
        "# Display the DataFrame\n",
        "print(\"DataFrame from CSV:\")\n",
        "print(df)\n",
        "\n",
        "# Plotting example (customize based on your data)\n",
        "plt.figure(figsize=(10, 6))\n",
        "plt.plot(df['Column1'], df['Column2'], label='Data')\n",
        "plt.xlabel('X-Axis Label')\n",
        "plt.ylabel('Y-Axis Label')\n",
        "plt.title('Plot of CSV Data')\n",
        "plt.legend()\n",
        "plt.show()\n"
      ]
    },
    {
      "cell_type": "code",
      "source": [
        "# chain generated data\n",
        "n = 255\n",
        "times = [0] * n\n",
        "times_matrix = [[0] * 256 for _ in range(256)]\n",
        "\n",
        "ccx = 0.15\n",
        "cdd = 0.31\n",
        "numa = 0.34\n",
        "socket = 0.36\n",
        "node = 0.65\n",
        "different_nodes = 1.82\n",
        "\n",
        "for i in range(n):\n",
        "  j = i+1\n",
        "  if i//4 == j//4:\n",
        "    times[i] = ccx\n",
        "  elif i//16 == j//16:\n",
        "    times[i] = cdd\n",
        "  elif i//32 == j//32:\n",
        "    times[i] = numa\n",
        "  elif i//64 == j//64:\n",
        "    times[i] = socket\n",
        "  elif i//128 == j//128:\n",
        "    times[i] = node\n",
        "  else:\n",
        "    times[i] = different_nodes\n",
        "\n",
        "for i in range(256):\n",
        "  for j in range(256):\n",
        "    if i == j:\n",
        "      times_matrix[i][j] = 0\n",
        "    elif i//4 == j//4:\n",
        "      times_matrix[i][j] = ccx\n",
        "    elif i//16 == j//16:\n",
        "      times_matrix[i][j] = cdd\n",
        "    elif i//32 == j//32:\n",
        "      times_matrix[i][j] = numa\n",
        "    elif i//64 == j//64:\n",
        "      times_matrix[i][j] = socket\n",
        "    elif i//128 == j//128:\n",
        "      times_matrix[i][j] = node\n",
        "    else:\n",
        "      times_matrix[i][j] = different_nodes\n"
      ],
      "metadata": {
        "id": "MN4B8inDEYUj"
      },
      "execution_count": null,
      "outputs": []
    },
    {
      "cell_type": "code",
      "source": [
        "def get_time_chain(i):\n",
        "  time = 0\n",
        "  for j in range(1,i):\n",
        "    step_j = [times[k] for k in range(max(0,j-1), min(i-2,j-1)+1)]\n",
        "    time += max(step_j)\n",
        "  return time"
      ],
      "metadata": {
        "id": "lV-gT9ijH_uG"
      },
      "execution_count": null,
      "outputs": []
    },
    {
      "cell_type": "code",
      "source": [
        "chain_times = [0]*8\n",
        "n_processes = [2,4,8,16,32,64,128,256]\n",
        "index = 0\n",
        "\n",
        "for i in n_processes:\n",
        "  chain_times[index] = get_time_chain(i)\n",
        "  index += 1\n",
        "\n",
        "chain_times"
      ],
      "metadata": {
        "colab": {
          "base_uri": "https://localhost:8080/"
        },
        "id": "Z8ekxDhkG6_-",
        "outputId": "245b5e6d-f026-4c7d-f885-6ef6fa67f44e"
      },
      "execution_count": null,
      "outputs": [
        {
          "output_type": "execute_result",
          "data": {
            "text/plain": [
              "[0.15,\n",
              " 0.44999999999999996,\n",
              " 1.21,\n",
              " 2.7299999999999995,\n",
              " 5.800000000000001,\n",
              " 11.96000000000001,\n",
              " 24.569999999999958,\n",
              " 50.959999999999866]"
            ]
          },
          "metadata": {},
          "execution_count": 39
        }
      ]
    },
    {
      "cell_type": "code",
      "source": [
        "import math\n",
        "\n",
        "def succ_left(p):\n",
        "  h = math.floor(math.log2(p+1))\n",
        "  if h == 0:\n",
        "    i = 0\n",
        "  else:\n",
        "    i = 2*(p-2**h+1) + p//(2**(h+1)-2)\n",
        "  return 2**(h+1) - 1 + i\n",
        "\n",
        "def succ_right(p):\n",
        "  h = math.floor(math.log2(p+1))\n",
        "  if h == 0:\n",
        "    i = 0\n",
        "  else:\n",
        "    i = 2*(p-2**h+1) + p//(2**(h+1)-2)\n",
        "  return 2**h + 2**(h+1) - 1 + i\n",
        "\n",
        "def get_time_btree(i):\n",
        "  time = 0\n",
        "  for j in range(1,math.floor(math.log2(i))+1):\n",
        "    step_j = []\n",
        "    for k in range(max(0,j-1), min(math.floor(math.log2(i))-1,j-1)+1):\n",
        "      left = succ_left(k)\n",
        "      right = succ_right(k)\n",
        "      step_j.append(times_matrix[k][left]+times_matrix[k][right])\n",
        "      #step_j.append(times_matrix[k][left])\n",
        "      #step_j.append(times_matrix[k][right])\n",
        "    time += max(step_j)\n",
        "  return time"
      ],
      "metadata": {
        "id": "B_bgl9aXUEhS"
      },
      "execution_count": null,
      "outputs": []
    },
    {
      "cell_type": "code",
      "source": [
        "btree_times = [0]*8\n",
        "n_processes = [3,7,15,31,63,127,255,511]\n",
        "index = 0\n",
        "\n",
        "for i in n_processes:\n",
        "  btree_times[index] = get_time_btree(i)\n",
        "  index += 1\n",
        "\n",
        "btree_times"
      ],
      "metadata": {
        "colab": {
          "base_uri": "https://localhost:8080/"
        },
        "id": "mFmIaxaSTrBO",
        "outputId": "672559a2-37a7-4d44-fe56-8361d69759fe"
      },
      "execution_count": null,
      "outputs": [
        {
          "output_type": "execute_result",
          "data": {
            "text/plain": [
              "[0.3, 0.76, 1.38, 2.0, 2.62, 3.24, 3.89, 4.54]"
            ]
          },
          "metadata": {},
          "execution_count": 69
        }
      ]
    },
    {
      "cell_type": "code",
      "source": [
        "def get_time_barrier_tree(p):\n",
        "  time = 0\n",
        "  h = int(math.log2(p))\n",
        "  for i in range(1,h+1):\n",
        "    step_j = [times_matrix[j][j+2**(i-1)] for j in range(0,p,2**i)]\n",
        "    time += max(step_j)\n",
        "  return 2*time"
      ],
      "metadata": {
        "id": "7jJKvKWZfJE9"
      },
      "execution_count": null,
      "outputs": []
    },
    {
      "cell_type": "code",
      "source": [
        "# barrier - tree\n",
        "barrier_tree_times = [0]*8\n",
        "n_processes = [2,4,8,16,32,64,128,256]\n",
        "index = 0\n",
        "\n",
        "for i in n_processes:\n",
        "  barrier_tree_times[index] = get_time_barrier_tree(i)\n",
        "  index += 1\n",
        "barrier_tree_times"
      ],
      "metadata": {
        "colab": {
          "base_uri": "https://localhost:8080/"
        },
        "id": "5hhkzBhmey1u",
        "outputId": "7558f686-d76c-4d90-a436-ce9f88b90236"
      },
      "execution_count": null,
      "outputs": [
        {
          "output_type": "execute_result",
          "data": {
            "text/plain": [
              "[0.3, 0.6, 1.22, 1.8399999999999999, 2.52, 3.24, 4.54, 8.18]"
            ]
          },
          "metadata": {},
          "execution_count": 12
        }
      ]
    }
  ]
}